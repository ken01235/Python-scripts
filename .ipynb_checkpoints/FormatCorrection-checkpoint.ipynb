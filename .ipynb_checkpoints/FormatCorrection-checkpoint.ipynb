{
 "cells": [
  {
   "cell_type": "code",
   "execution_count": 1,
   "id": "d304d9f1-8962-4326-961c-00aaebaf451f",
   "metadata": {},
   "outputs": [],
   "source": [
    "import os\n",
    "import sys\n",
    "import numpy as np\n",
    "import pandas as pd"
   ]
  },
  {
   "cell_type": "code",
   "execution_count": 2,
   "id": "b73397f0-3d19-48b9-813d-048b83d3a7fa",
   "metadata": {},
   "outputs": [],
   "source": [
    "file_path = ['..', 'raw data', '20240901', 'LSMO3+3_390C_77']\n",
    "if (platform := sys.platform) == 'linux':\n",
    "    file_path = '/'.join(file_path)\n",
    "else:\n",
    "    file_path = '\\\\'.join(file_path)\n",
    "\n",
    "file_list = list(filter(lambda x: 'read' in x, os.listdir(file_path)))"
   ]
  },
  {
   "cell_type": "code",
   "execution_count": 12,
   "id": "ca0a35e7-ea7d-4bd0-98e1-80f3401d2537",
   "metadata": {},
   "outputs": [
    {
     "name": "stdout",
     "output_type": "stream",
     "text": [
      "../raw data/20240901/LSMO3+3_390C_77/9_6_2024 11_21_45 AM  read2 [lsmo3+3_390C_77(1) ;].csv\n",
      "    Vd            Id\n",
      "0  0.0 -6.916800e-08\n",
      "1  0.1  7.920780e-04\n"
     ]
    }
   ],
   "source": [
    "file = os.path.join(file_path, file_list[0])\n",
    "print(file)\n",
    "df = pd.read_csv(file, sep='\\0', header=None)\n",
    "# index = df.index[df[0] == 'DataName, Vd, Id'].values[0]\n",
    "try:\n",
    "    index = df.index[df[0] == 'DataName, Vd, Id, resistance'].values[0]\n",
    "    tmp = []\n",
    "    for i in range(index + 1, df.shape[0]):\n",
    "        tmp.append(df.iloc[i].values[0].split(',')[1:3])\n",
    "    df = pd.DataFrame(tmp, columns=['Vd', 'Id'], dtype=np.float64)\n",
    "    print(df)\n",
    "    with pd.ExcelWriter(file, mode=\"a\", engine=\"openpyxl\", if_sheet_exists=\"replace\",) as writer:\n",
    "        df.to_excel(writer, sheet_name='Sheet1')\n",
    "except:\n",
    "    pass\n",
    "    "
   ]
  },
  {
   "cell_type": "code",
   "execution_count": null,
   "id": "00273103-1b09-421a-a933-bbfb1de39624",
   "metadata": {},
   "outputs": [],
   "source": []
  }
 ],
 "metadata": {
  "kernelspec": {
   "display_name": "Python 3 (ipykernel)",
   "language": "python",
   "name": "python3"
  },
  "language_info": {
   "codemirror_mode": {
    "name": "ipython",
    "version": 3
   },
   "file_extension": ".py",
   "mimetype": "text/x-python",
   "name": "python",
   "nbconvert_exporter": "python",
   "pygments_lexer": "ipython3",
   "version": "3.10.12"
  }
 },
 "nbformat": 4,
 "nbformat_minor": 5
}
