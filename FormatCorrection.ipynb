{
 "cells": [
  {
   "cell_type": "code",
   "execution_count": 1,
   "id": "d304d9f1-8962-4326-961c-00aaebaf451f",
   "metadata": {},
   "outputs": [],
   "source": [
    "import os\n",
    "import sys\n",
    "import numpy as np\n",
    "import pandas as pd"
   ]
  },
  {
   "cell_type": "code",
   "execution_count": 2,
   "id": "b73397f0-3d19-48b9-813d-048b83d3a7fa",
   "metadata": {
    "scrolled": true
   },
   "outputs": [
    {
     "name": "stdout",
     "output_type": "stream",
     "text": [
      "['9_6_2024 11_18_49 AM  ResetDC [lsmo3+3_390C_77(2) ;].csv', '9_6_2024 11_19_00 AM  ResetDC [lsmo3+3_390C_77(3) ;].csv', '9_6_2024 11_22_09 AM  ResetDC [lsmo3+3_390C_77(1) ;].csv', '9_6_2024 11_24_23 AM  ResetDC [lsmo3+3_390C_77(2) ;].csv', '9_6_2024 11_24_44 AM  ResetDC [lsmo3+3_390C_77(3) ;].csv', '9_6_2024 11_25_06 AM  ResetDC [lsmo3+3_390C_77(4) ;].csv', '9_6_2024 11_25_51 AM  ResetDC [lsmo3+3_390C_77(1) ;].csv', '9_6_2024 11_26_13 AM  ResetDC [lsmo3+3_390C_77(2) ;].csv', '9_6_2024 11_26_34 AM  ResetDC [lsmo3+3_390C_77(3) ;].csv', '9_6_2024 11_27_21 AM  ResetDC [lsmo3+3_390C_77(1) ;].csv', '9_6_2024 11_27_42 AM  ResetDC [lsmo3+3_390C_77(2) ;].csv', '9_6_2024 11_28_52 AM  ResetDC [lsmo3+3_390C_77(1) ;].csv', '9_6_2024 11_29_14 AM  ResetDC [lsmo3+3_390C_77(2) ;].csv', '9_6_2024 11_29_36 AM  ResetDC [lsmo3+3_390C_77(3) ;].csv', '9_6_2024 11_29_57 AM  ResetDC [lsmo3+3_390C_77(4) ;].csv', '9_6_2024 11_30_19 AM  ResetDC [lsmo3+3_390C_77(5) ;].csv', '9_6_2024 11_30_40 AM  ResetDC [lsmo3+3_390C_77(6) ;].csv', '9_6_2024 11_31_02 AM  ResetDC [lsmo3+3_390C_77(7) ;].csv', '9_6_2024 11_31_23 AM  ResetDC [lsmo3+3_390C_77(8) ;].csv', '9_6_2024 11_31_45 AM  ResetDC [lsmo3+3_390C_77(9) ;].csv', '9_6_2024 11_32_08 AM  ResetDC [lsmo3+3_390C_77(10) ;].csv', '9_6_2024 11_32_29 AM  ResetDC [lsmo3+3_390C_77(11) ;].csv', '9_6_2024 11_32_51 AM  ResetDC [lsmo3+3_390C_77(12) ;].csv', '9_6_2024 11_33_12 AM  ResetDC [lsmo3+3_390C_77(13) ;].csv', '9_6_2024 11_33_34 AM  ResetDC [lsmo3+3_390C_77(14) ;].csv', '9_6_2024 11_33_56 AM  ResetDC [lsmo3+3_390C_77(15) ;].csv', '9_6_2024 11_34_17 AM  ResetDC [lsmo3+3_390C_77(16) ;].csv', '9_6_2024 11_34_40 AM  ResetDC [lsmo3+3_390C_77(17) ;].csv', '9_6_2024 11_35_02 AM  ResetDC [lsmo3+3_390C_77(18) ;].csv', '9_6_2024 11_35_24 AM  ResetDC [lsmo3+3_390C_77(19) ;].csv', '9_6_2024 11_35_45 AM  ResetDC [lsmo3+3_390C_77(20) ;].csv', '9_6_2024 11_36_07 AM  ResetDC [lsmo3+3_390C_77(21) ;].csv', '9_6_2024 11_36_30 AM  ResetDC [lsmo3+3_390C_77(22) ;].csv', '9_6_2024 11_36_52 AM  ResetDC [lsmo3+3_390C_77(23) ;].csv', '9_6_2024 11_37_14 AM  ResetDC [lsmo3+3_390C_77(24) ;].csv', '9_6_2024 11_37_36 AM  ResetDC [lsmo3+3_390C_77(25) ;].csv', '9_6_2024 11_37_57 AM  ResetDC [lsmo3+3_390C_77(26) ;].csv', '9_6_2024 11_38_19 AM  ResetDC [lsmo3+3_390C_77(27) ;].csv', '9_6_2024 11_38_42 AM  ResetDC [lsmo3+3_390C_77(28) ;].csv', '9_6_2024 11_39_03 AM  ResetDC [lsmo3+3_390C_77(29) ;].csv', '9_6_2024 11_39_25 AM  ResetDC [lsmo3+3_390C_77(30) ;].csv', '9_6_2024 11_39_47 AM  ResetDC [lsmo3+3_390C_77(31) ;].csv', '9_6_2024 11_40_09 AM  ResetDC [lsmo3+3_390C_77(32) ;].csv', '9_6_2024 11_40_31 AM  ResetDC [lsmo3+3_390C_77(33) ;].csv', '9_6_2024 11_40_52 AM  ResetDC [lsmo3+3_390C_77(34) ;].csv', '9_6_2024 11_41_15 AM  ResetDC [lsmo3+3_390C_77(35) ;].csv', '9_6_2024 11_41_37 AM  ResetDC [lsmo3+3_390C_77(36) ;].csv', '9_6_2024 11_41_58 AM  ResetDC [lsmo3+3_390C_77(37) ;].csv', '9_6_2024 11_42_20 AM  ResetDC [lsmo3+3_390C_77(38) ;].csv', '9_6_2024 11_42_42 AM  ResetDC [lsmo3+3_390C_77(39) ;].csv', '9_6_2024 11_43_04 AM  ResetDC [lsmo3+3_390C_77(40) ;].csv', '9_6_2024 11_43_26 AM  ResetDC [lsmo3+3_390C_77(41) ;].csv', '9_6_2024 11_43_47 AM  ResetDC [lsmo3+3_390C_77(42) ;].csv', '9_6_2024 11_44_08 AM  ResetDC [lsmo3+3_390C_77(43) ;].csv', '9_6_2024 11_44_29 AM  ResetDC [lsmo3+3_390C_77(44) ;].csv', '9_6_2024 11_44_50 AM  ResetDC [lsmo3+3_390C_77(45) ;].csv', '9_6_2024 11_45_11 AM  ResetDC [lsmo3+3_390C_77(46) ;].csv', '9_6_2024 11_45_33 AM  ResetDC [lsmo3+3_390C_77(47) ;].csv', '9_6_2024 11_45_55 AM  ResetDC [lsmo3+3_390C_77(48) ;].csv', '9_6_2024 11_46_18 AM  ResetDC [lsmo3+3_390C_77(49) ;].csv', '9_6_2024 11_46_39 AM  ResetDC [lsmo3+3_390C_77(50) ;].csv', '9_6_2024 11_47_00 AM  ResetDC [lsmo3+3_390C_77(51) ;].csv', '9_6_2024 11_47_22 AM  ResetDC [lsmo3+3_390C_77(52) ;].csv', '9_6_2024 11_47_44 AM  ResetDC [lsmo3+3_390C_77(53) ;].csv', '9_6_2024 11_48_06 AM  ResetDC [lsmo3+3_390C_77(54) ;].csv', '9_6_2024 11_48_27 AM  ResetDC [lsmo3+3_390C_77(55) ;].csv', '9_6_2024 11_48_49 AM  ResetDC [lsmo3+3_390C_77(56) ;].csv', '9_6_2024 11_49_11 AM  ResetDC [lsmo3+3_390C_77(57) ;].csv', '9_6_2024 11_49_32 AM  ResetDC [lsmo3+3_390C_77(58) ;].csv', '9_6_2024 11_49_54 AM  ResetDC [lsmo3+3_390C_77(59) ;].csv', '9_6_2024 11_50_16 AM  ResetDC [lsmo3+3_390C_77(60) ;].csv', '9_6_2024 11_50_37 AM  ResetDC [lsmo3+3_390C_77(61) ;].csv', '9_6_2024 11_50_58 AM  ResetDC [lsmo3+3_390C_77(62) ;].csv', '9_6_2024 11_51_19 AM  ResetDC [lsmo3+3_390C_77(63) ;].csv', '9_6_2024 11_51_41 AM  ResetDC [lsmo3+3_390C_77(64) ;].csv', '9_6_2024 11_52_03 AM  ResetDC [lsmo3+3_390C_77(65) ;].csv', '9_6_2024 11_52_26 AM  ResetDC [lsmo3+3_390C_77(66) ;].csv', '9_6_2024 11_52_47 AM  ResetDC [lsmo3+3_390C_77(67) ;].csv', '9_6_2024 11_53_08 AM  ResetDC [lsmo3+3_390C_77(68) ;].csv', '9_6_2024 11_53_30 AM  ResetDC [lsmo3+3_390C_77(69) ;].csv', '9_6_2024 11_53_51 AM  ResetDC [lsmo3+3_390C_77(70) ;].csv', '9_6_2024 11_54_14 AM  ResetDC [lsmo3+3_390C_77(71) ;].csv', '9_6_2024 11_54_36 AM  ResetDC [lsmo3+3_390C_77(72) ;].csv', '9_6_2024 11_54_57 AM  ResetDC [lsmo3+3_390C_77(73) ;].csv', '9_6_2024 11_55_19 AM  ResetDC [lsmo3+3_390C_77(74) ;].csv', '9_6_2024 11_55_41 AM  ResetDC [lsmo3+3_390C_77(75) ;].csv', '9_6_2024 11_56_02 AM  ResetDC [lsmo3+3_390C_77(76) ;].csv', '9_6_2024 11_56_24 AM  ResetDC [lsmo3+3_390C_77(77) ;].csv', '9_6_2024 11_56_46 AM  ResetDC [lsmo3+3_390C_77(78) ;].csv', '9_6_2024 11_57_08 AM  ResetDC [lsmo3+3_390C_77(79) ;].csv', '9_6_2024 11_57_31 AM  ResetDC [lsmo3+3_390C_77(80) ;].csv', '9_6_2024 11_57_52 AM  ResetDC [lsmo3+3_390C_77(81) ;].csv', '9_6_2024 11_58_14 AM  ResetDC [lsmo3+3_390C_77(82) ;].csv', '9_6_2024 11_58_36 AM  ResetDC [lsmo3+3_390C_77(83) ;].csv', '9_6_2024 11_58_57 AM  ResetDC [lsmo3+3_390C_77(84) ;].csv', '9_6_2024 11_59_19 AM  ResetDC [lsmo3+3_390C_77(85) ;].csv', '9_6_2024 11_59_42 AM  ResetDC [lsmo3+3_390C_77(86) ;].csv', '9_6_2024 12_00_03 PM  ResetDC [lsmo3+3_390C_77(87) ;].csv', '9_6_2024 12_00_26 PM  ResetDC [lsmo3+3_390C_77(88) ;].csv', '9_6_2024 12_00_48 PM  ResetDC [lsmo3+3_390C_77(89) ;].csv', '9_6_2024 12_01_10 PM  ResetDC [lsmo3+3_390C_77(90) ;].csv', '9_6_2024 12_01_32 PM  ResetDC [lsmo3+3_390C_77(91) ;].csv', '9_6_2024 12_01_53 PM  ResetDC [lsmo3+3_390C_77(92) ;].csv', '9_6_2024 12_02_16 PM  ResetDC [lsmo3+3_390C_77(93) ;].csv', '9_6_2024 12_02_38 PM  ResetDC [lsmo3+3_390C_77(94) ;].csv', '9_6_2024 12_03_00 PM  ResetDC [lsmo3+3_390C_77(95) ;].csv', '9_6_2024 12_03_21 PM  ResetDC [lsmo3+3_390C_77(96) ;].csv', '9_6_2024 12_03_43 PM  ResetDC [lsmo3+3_390C_77(97) ;].csv', '9_6_2024 12_04_04 PM  ResetDC [lsmo3+3_390C_77(98) ;].csv', '9_6_2024 12_04_26 PM  ResetDC [lsmo3+3_390C_77(99) ;].csv', '9_6_2024 12_04_48 PM  ResetDC [lsmo3+3_390C_77(100) ;].csv']\n"
     ]
    }
   ],
   "source": [
    "file_path = ['..', 'raw data', '20240901', 'LSMO3+3_390C_77']\n",
    "if (platform := sys.platform) == 'linux':\n",
    "    file_path = '/'.join(file_path)\n",
    "else:\n",
    "    file_path = '\\\\'.join(file_path)\n",
    "\n",
    "file_list = list(filter(lambda x: ' Reset' in x, os.listdir(file_path)))\n",
    "print(file_list)"
   ]
  },
  {
   "cell_type": "code",
   "execution_count": 3,
   "id": "ca0a35e7-ea7d-4bd0-98e1-80f3401d2537",
   "metadata": {
    "scrolled": true
   },
   "outputs": [
    {
     "name": "stdout",
     "output_type": "stream",
     "text": [
      "9_6_2024 11_18_49 AM  ResetDC [lsmo3+3_390C_77(2) ;].csv\n",
      "9_6_2024 11_19_00 AM  ResetDC [lsmo3+3_390C_77(3) ;].csv\n",
      "9_6_2024 11_22_09 AM  ResetDC [lsmo3+3_390C_77(1) ;].csv\n",
      "9_6_2024 11_24_23 AM  ResetDC [lsmo3+3_390C_77(2) ;].csv\n",
      "9_6_2024 11_24_44 AM  ResetDC [lsmo3+3_390C_77(3) ;].csv\n",
      "9_6_2024 11_25_06 AM  ResetDC [lsmo3+3_390C_77(4) ;].csv\n",
      "9_6_2024 11_25_51 AM  ResetDC [lsmo3+3_390C_77(1) ;].csv\n",
      "9_6_2024 11_26_13 AM  ResetDC [lsmo3+3_390C_77(2) ;].csv\n",
      "9_6_2024 11_26_34 AM  ResetDC [lsmo3+3_390C_77(3) ;].csv\n",
      "9_6_2024 11_27_21 AM  ResetDC [lsmo3+3_390C_77(1) ;].csv\n",
      "9_6_2024 11_27_42 AM  ResetDC [lsmo3+3_390C_77(2) ;].csv\n",
      "9_6_2024 11_28_52 AM  ResetDC [lsmo3+3_390C_77(1) ;].csv\n",
      "9_6_2024 11_29_14 AM  ResetDC [lsmo3+3_390C_77(2) ;].csv\n",
      "9_6_2024 11_29_36 AM  ResetDC [lsmo3+3_390C_77(3) ;].csv\n",
      "9_6_2024 11_29_57 AM  ResetDC [lsmo3+3_390C_77(4) ;].csv\n",
      "9_6_2024 11_30_19 AM  ResetDC [lsmo3+3_390C_77(5) ;].csv\n",
      "9_6_2024 11_30_40 AM  ResetDC [lsmo3+3_390C_77(6) ;].csv\n",
      "9_6_2024 11_31_02 AM  ResetDC [lsmo3+3_390C_77(7) ;].csv\n",
      "9_6_2024 11_31_23 AM  ResetDC [lsmo3+3_390C_77(8) ;].csv\n",
      "9_6_2024 11_31_45 AM  ResetDC [lsmo3+3_390C_77(9) ;].csv\n",
      "9_6_2024 11_32_08 AM  ResetDC [lsmo3+3_390C_77(10) ;].csv\n",
      "9_6_2024 11_32_29 AM  ResetDC [lsmo3+3_390C_77(11) ;].csv\n",
      "9_6_2024 11_32_51 AM  ResetDC [lsmo3+3_390C_77(12) ;].csv\n",
      "9_6_2024 11_33_12 AM  ResetDC [lsmo3+3_390C_77(13) ;].csv\n",
      "9_6_2024 11_33_34 AM  ResetDC [lsmo3+3_390C_77(14) ;].csv\n",
      "9_6_2024 11_33_56 AM  ResetDC [lsmo3+3_390C_77(15) ;].csv\n",
      "9_6_2024 11_34_17 AM  ResetDC [lsmo3+3_390C_77(16) ;].csv\n",
      "9_6_2024 11_34_40 AM  ResetDC [lsmo3+3_390C_77(17) ;].csv\n",
      "9_6_2024 11_35_02 AM  ResetDC [lsmo3+3_390C_77(18) ;].csv\n",
      "9_6_2024 11_35_24 AM  ResetDC [lsmo3+3_390C_77(19) ;].csv\n",
      "9_6_2024 11_35_45 AM  ResetDC [lsmo3+3_390C_77(20) ;].csv\n",
      "9_6_2024 11_36_07 AM  ResetDC [lsmo3+3_390C_77(21) ;].csv\n",
      "9_6_2024 11_36_30 AM  ResetDC [lsmo3+3_390C_77(22) ;].csv\n",
      "9_6_2024 11_36_52 AM  ResetDC [lsmo3+3_390C_77(23) ;].csv\n",
      "9_6_2024 11_37_14 AM  ResetDC [lsmo3+3_390C_77(24) ;].csv\n",
      "9_6_2024 11_37_36 AM  ResetDC [lsmo3+3_390C_77(25) ;].csv\n",
      "9_6_2024 11_37_57 AM  ResetDC [lsmo3+3_390C_77(26) ;].csv\n",
      "9_6_2024 11_38_19 AM  ResetDC [lsmo3+3_390C_77(27) ;].csv\n",
      "9_6_2024 11_38_42 AM  ResetDC [lsmo3+3_390C_77(28) ;].csv\n",
      "9_6_2024 11_39_03 AM  ResetDC [lsmo3+3_390C_77(29) ;].csv\n",
      "9_6_2024 11_39_25 AM  ResetDC [lsmo3+3_390C_77(30) ;].csv\n",
      "9_6_2024 11_39_47 AM  ResetDC [lsmo3+3_390C_77(31) ;].csv\n",
      "9_6_2024 11_40_09 AM  ResetDC [lsmo3+3_390C_77(32) ;].csv\n",
      "9_6_2024 11_40_31 AM  ResetDC [lsmo3+3_390C_77(33) ;].csv\n",
      "9_6_2024 11_40_52 AM  ResetDC [lsmo3+3_390C_77(34) ;].csv\n",
      "9_6_2024 11_41_15 AM  ResetDC [lsmo3+3_390C_77(35) ;].csv\n",
      "9_6_2024 11_41_37 AM  ResetDC [lsmo3+3_390C_77(36) ;].csv\n",
      "9_6_2024 11_41_58 AM  ResetDC [lsmo3+3_390C_77(37) ;].csv\n",
      "9_6_2024 11_42_20 AM  ResetDC [lsmo3+3_390C_77(38) ;].csv\n",
      "9_6_2024 11_42_42 AM  ResetDC [lsmo3+3_390C_77(39) ;].csv\n",
      "9_6_2024 11_43_04 AM  ResetDC [lsmo3+3_390C_77(40) ;].csv\n",
      "9_6_2024 11_43_26 AM  ResetDC [lsmo3+3_390C_77(41) ;].csv\n",
      "9_6_2024 11_43_47 AM  ResetDC [lsmo3+3_390C_77(42) ;].csv\n",
      "9_6_2024 11_44_08 AM  ResetDC [lsmo3+3_390C_77(43) ;].csv\n",
      "9_6_2024 11_44_29 AM  ResetDC [lsmo3+3_390C_77(44) ;].csv\n",
      "9_6_2024 11_44_50 AM  ResetDC [lsmo3+3_390C_77(45) ;].csv\n",
      "9_6_2024 11_45_11 AM  ResetDC [lsmo3+3_390C_77(46) ;].csv\n",
      "9_6_2024 11_45_33 AM  ResetDC [lsmo3+3_390C_77(47) ;].csv\n",
      "9_6_2024 11_45_55 AM  ResetDC [lsmo3+3_390C_77(48) ;].csv\n",
      "9_6_2024 11_46_18 AM  ResetDC [lsmo3+3_390C_77(49) ;].csv\n",
      "9_6_2024 11_46_39 AM  ResetDC [lsmo3+3_390C_77(50) ;].csv\n",
      "9_6_2024 11_47_00 AM  ResetDC [lsmo3+3_390C_77(51) ;].csv\n",
      "9_6_2024 11_47_22 AM  ResetDC [lsmo3+3_390C_77(52) ;].csv\n",
      "9_6_2024 11_47_44 AM  ResetDC [lsmo3+3_390C_77(53) ;].csv\n",
      "9_6_2024 11_48_06 AM  ResetDC [lsmo3+3_390C_77(54) ;].csv\n",
      "9_6_2024 11_48_27 AM  ResetDC [lsmo3+3_390C_77(55) ;].csv\n",
      "9_6_2024 11_48_49 AM  ResetDC [lsmo3+3_390C_77(56) ;].csv\n",
      "9_6_2024 11_49_11 AM  ResetDC [lsmo3+3_390C_77(57) ;].csv\n",
      "9_6_2024 11_49_32 AM  ResetDC [lsmo3+3_390C_77(58) ;].csv\n",
      "9_6_2024 11_49_54 AM  ResetDC [lsmo3+3_390C_77(59) ;].csv\n",
      "9_6_2024 11_50_16 AM  ResetDC [lsmo3+3_390C_77(60) ;].csv\n",
      "9_6_2024 11_50_37 AM  ResetDC [lsmo3+3_390C_77(61) ;].csv\n",
      "9_6_2024 11_50_58 AM  ResetDC [lsmo3+3_390C_77(62) ;].csv\n",
      "9_6_2024 11_51_19 AM  ResetDC [lsmo3+3_390C_77(63) ;].csv\n",
      "9_6_2024 11_51_41 AM  ResetDC [lsmo3+3_390C_77(64) ;].csv\n",
      "9_6_2024 11_52_03 AM  ResetDC [lsmo3+3_390C_77(65) ;].csv\n",
      "9_6_2024 11_52_26 AM  ResetDC [lsmo3+3_390C_77(66) ;].csv\n",
      "9_6_2024 11_52_47 AM  ResetDC [lsmo3+3_390C_77(67) ;].csv\n",
      "9_6_2024 11_53_08 AM  ResetDC [lsmo3+3_390C_77(68) ;].csv\n",
      "9_6_2024 11_53_30 AM  ResetDC [lsmo3+3_390C_77(69) ;].csv\n",
      "9_6_2024 11_53_51 AM  ResetDC [lsmo3+3_390C_77(70) ;].csv\n",
      "9_6_2024 11_54_14 AM  ResetDC [lsmo3+3_390C_77(71) ;].csv\n",
      "9_6_2024 11_54_36 AM  ResetDC [lsmo3+3_390C_77(72) ;].csv\n",
      "9_6_2024 11_54_57 AM  ResetDC [lsmo3+3_390C_77(73) ;].csv\n",
      "9_6_2024 11_55_19 AM  ResetDC [lsmo3+3_390C_77(74) ;].csv\n",
      "9_6_2024 11_55_41 AM  ResetDC [lsmo3+3_390C_77(75) ;].csv\n",
      "9_6_2024 11_56_02 AM  ResetDC [lsmo3+3_390C_77(76) ;].csv\n",
      "9_6_2024 11_56_24 AM  ResetDC [lsmo3+3_390C_77(77) ;].csv\n",
      "9_6_2024 11_56_46 AM  ResetDC [lsmo3+3_390C_77(78) ;].csv\n",
      "9_6_2024 11_57_08 AM  ResetDC [lsmo3+3_390C_77(79) ;].csv\n",
      "9_6_2024 11_57_31 AM  ResetDC [lsmo3+3_390C_77(80) ;].csv\n",
      "9_6_2024 11_57_52 AM  ResetDC [lsmo3+3_390C_77(81) ;].csv\n",
      "9_6_2024 11_58_14 AM  ResetDC [lsmo3+3_390C_77(82) ;].csv\n",
      "9_6_2024 11_58_36 AM  ResetDC [lsmo3+3_390C_77(83) ;].csv\n",
      "9_6_2024 11_58_57 AM  ResetDC [lsmo3+3_390C_77(84) ;].csv\n",
      "9_6_2024 11_59_19 AM  ResetDC [lsmo3+3_390C_77(85) ;].csv\n",
      "9_6_2024 11_59_42 AM  ResetDC [lsmo3+3_390C_77(86) ;].csv\n",
      "9_6_2024 12_00_03 PM  ResetDC [lsmo3+3_390C_77(87) ;].csv\n",
      "9_6_2024 12_00_26 PM  ResetDC [lsmo3+3_390C_77(88) ;].csv\n",
      "9_6_2024 12_00_48 PM  ResetDC [lsmo3+3_390C_77(89) ;].csv\n",
      "9_6_2024 12_01_10 PM  ResetDC [lsmo3+3_390C_77(90) ;].csv\n",
      "9_6_2024 12_01_32 PM  ResetDC [lsmo3+3_390C_77(91) ;].csv\n",
      "9_6_2024 12_01_53 PM  ResetDC [lsmo3+3_390C_77(92) ;].csv\n",
      "9_6_2024 12_02_16 PM  ResetDC [lsmo3+3_390C_77(93) ;].csv\n",
      "9_6_2024 12_02_38 PM  ResetDC [lsmo3+3_390C_77(94) ;].csv\n",
      "9_6_2024 12_03_00 PM  ResetDC [lsmo3+3_390C_77(95) ;].csv\n",
      "9_6_2024 12_03_21 PM  ResetDC [lsmo3+3_390C_77(96) ;].csv\n",
      "9_6_2024 12_03_43 PM  ResetDC [lsmo3+3_390C_77(97) ;].csv\n",
      "9_6_2024 12_04_04 PM  ResetDC [lsmo3+3_390C_77(98) ;].csv\n",
      "9_6_2024 12_04_26 PM  ResetDC [lsmo3+3_390C_77(99) ;].csv\n",
      "9_6_2024 12_04_48 PM  ResetDC [lsmo3+3_390C_77(100) ;].csv\n"
     ]
    }
   ],
   "source": [
    "for file in file_list:\n",
    "    print(file)\n",
    "    df = pd.read_csv(os.path.join(file_path, file), sep='\\0', header=None)\n",
    "    index = df.index[df[0] == 'DataName, Vd, Id'].values[0]\n",
    "    # index = df.index[df[0] == 'DataName, Vd, Id, resistance'].values[0]\n",
    "    tmp = []\n",
    "    for i in range(index + 1, df.shape[0]):\n",
    "        tmp.append(df.iloc[i].values[0].split(',')[1:])\n",
    "    df = pd.DataFrame(tmp, columns=['Vd', 'Id'], dtype=np.float64)\n",
    "    write_file_path = os.path.join(*file_path.split('/')[:-1], file_path.split('/')[-1] + '_xlsx')\n",
    "    curr_file = os.path.join(write_file_path, file[:-3] + 'xlsx')\n",
    "    with pd.ExcelWriter(curr_file, mode=\"w\", engine=\"openpyxl\",) as writer:\n",
    "        df.to_excel(writer, sheet_name='Sheet1', index = False)\n",
    "    "
   ]
  },
  {
   "cell_type": "code",
   "execution_count": null,
   "id": "00273103-1b09-421a-a933-bbfb1de39624",
   "metadata": {},
   "outputs": [],
   "source": []
  }
 ],
 "metadata": {
  "kernelspec": {
   "display_name": "Python 3 (ipykernel)",
   "language": "python",
   "name": "python3"
  },
  "language_info": {
   "codemirror_mode": {
    "name": "ipython",
    "version": 3
   },
   "file_extension": ".py",
   "mimetype": "text/x-python",
   "name": "python",
   "nbconvert_exporter": "python",
   "pygments_lexer": "ipython3",
   "version": "3.10.12"
  }
 },
 "nbformat": 4,
 "nbformat_minor": 5
}
